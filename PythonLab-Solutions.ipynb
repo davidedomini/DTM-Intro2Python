{
 "cells": [
  {
   "cell_type": "markdown",
   "id": "7cdbaee1",
   "metadata": {},
   "source": [
    "# Digital Transformation Management"
   ]
  },
  {
   "cell_type": "markdown",
   "id": "46fb3838",
   "metadata": {},
   "source": [
    "## Introduction to Python"
   ]
  },
  {
   "cell_type": "markdown",
   "id": "caa9aced",
   "metadata": {},
   "source": [
    "Main features:\n",
    "1. **Clear and readable syntax**: Python is known for its intuitive and clean syntax, enhancing code readability;\n",
    "2. **High-level language**: Python allows for abstract programming, reducing low-level complexities;\n",
    "3. **Multi-paradigm**: Python supports various programming paradigms, including procedural, object-oriented, and functional programming;\n",
    "4. **Dynamic typing**: Python variables do not require type declarations and can change types during runtime;\n",
    "5. **Automatic memory management**: Python handles memory automatically, including garbage collection, simplifying resource management;\n",
    "6. **Portability**: Python is available on various platforms, including Windows, macOS, and Linux;\n",
    "7. **Scalability**: Python is used for both small, quick scripts and large, complex projects;\n",
    "8. **Frameworks and ecosystem**: Python boasts numerous specialized frameworks and libraries for web development (e.g., Django and Flask), scientific computing (e.g., NumPy and SciPy), artificial intelligence (e.g., TensorFlow and PyTorch), and more."
   ]
  },
  {
   "cell_type": "markdown",
   "id": "f529d259",
   "metadata": {},
   "source": [
    "Python documentation: https://docs.python.org/3/library/index.html\n",
    "\n",
    "You can use the documentation while working on the upcoming exercises to look for information about the various built-in functions that Python provides."
   ]
  },
  {
   "cell_type": "markdown",
   "id": "06c3e441",
   "metadata": {},
   "source": [
    "### Section 1: Understanding jupyter cells"
   ]
  },
  {
   "cell_type": "markdown",
   "id": "bb9a4a2d",
   "metadata": {},
   "source": [
    "The following cell contains some python code, you can execute it in two ways: \n",
    "1. Using the \"run\" button in the toolbar\n",
    "2. Using the shortcut Ctrl+Enter\n"
   ]
  },
  {
   "cell_type": "code",
   "execution_count": 1,
   "id": "2b2af847",
   "metadata": {
    "scrolled": true
   },
   "outputs": [
    {
     "name": "stdout",
     "output_type": "stream",
     "text": [
      "Hello World!\n"
     ]
    }
   ],
   "source": [
    "print('Hello World!')"
   ]
  },
  {
   "cell_type": "markdown",
   "id": "bc1080c7",
   "metadata": {},
   "source": [
    "The output of the last statement in a code cell is always shown, without the need of using print()"
   ]
  },
  {
   "cell_type": "code",
   "execution_count": null,
   "id": "4ed27427",
   "metadata": {},
   "outputs": [],
   "source": [
    "print(\"The result of 5*5 is:\")\n",
    "5*5"
   ]
  },
  {
   "cell_type": "markdown",
   "id": "bab8029f",
   "metadata": {},
   "source": [
    "It is also possible to initialize new variables"
   ]
  },
  {
   "cell_type": "code",
   "execution_count": null,
   "id": "c97f1c5e",
   "metadata": {},
   "outputs": [],
   "source": [
    "x = 10"
   ]
  },
  {
   "cell_type": "markdown",
   "id": "0915ed1c",
   "metadata": {},
   "source": [
    "Once a variable has been defined, it can be used in any cell "
   ]
  },
  {
   "cell_type": "code",
   "execution_count": null,
   "id": "0ce5a351",
   "metadata": {},
   "outputs": [],
   "source": [
    "x"
   ]
  },
  {
   "cell_type": "code",
   "execution_count": null,
   "id": "79ff672e",
   "metadata": {},
   "outputs": [],
   "source": [
    "print(x+10)"
   ]
  },
  {
   "cell_type": "markdown",
   "id": "1e4d4006",
   "metadata": {},
   "source": [
    "**Before running the next cell, do you think x will have a value of 10 or 20?**"
   ]
  },
  {
   "cell_type": "code",
   "execution_count": null,
   "id": "11f758f6",
   "metadata": {},
   "outputs": [],
   "source": [
    "print(x)"
   ]
  },
  {
   "cell_type": "markdown",
   "id": "83261164",
   "metadata": {},
   "source": [
    "But now try running the following cell multiple times"
   ]
  },
  {
   "cell_type": "code",
   "execution_count": null,
   "id": "e96040f2",
   "metadata": {},
   "outputs": [],
   "source": [
    "x = x + 10\n",
    "print(x)"
   ]
  },
  {
   "cell_type": "markdown",
   "id": "0df2c4e1",
   "metadata": {},
   "source": [
    "Do you understand what the difference is?"
   ]
  },
  {
   "cell_type": "markdown",
   "id": "3119224a",
   "metadata": {},
   "source": [
    "### Section 2: Variables and typing"
   ]
  },
  {
   "cell_type": "markdown",
   "id": "dd8b0872",
   "metadata": {},
   "source": [
    "1. Variables are used to store data values;\n",
    "2. They act as symbolic names for values, making it easier to work with data;\n",
    "3. Variables, in Python, are typically initialized when they are assigned a value;\n",
    "4. Python supports various predefined data types, including: int, float, strings, bool, list, tuple, ..."
   ]
  },
  {
   "cell_type": "code",
   "execution_count": null,
   "id": "ac7eed36",
   "metadata": {},
   "outputs": [],
   "source": [
    "y = 10\n",
    "z = float(y)\n",
    "print(type(y), \"-----\" ,type(z))"
   ]
  },
  {
   "cell_type": "markdown",
   "id": "b5ddde87",
   "metadata": {},
   "source": [
    "**Some exercises:**\n",
    "1. Create a variable *x1* that contains the value of $3^2 + 4^3 + 5^4$\n",
    "2. Create a variable *x2* that contains the value of $\\frac{4+3}{5-1}$\n",
    "3. Create a variable *x3* that contains the minimum between (i) the multiplication between *x1* and *x2*, and (ii) the ratio between *x1* and *x2*\n",
    "4. Create a variable *z* that contains a list of the following values: \"Red\", \"Green\", \"Blue\", 10, True\n",
    "5. Print only the value of index 2 in *z*"
   ]
  },
  {
   "cell_type": "code",
   "execution_count": 7,
   "id": "7aa087f2",
   "metadata": {},
   "outputs": [
    {
     "name": "stdout",
     "output_type": "stream",
     "text": [
      "698\n",
      "1.75\n",
      "398.85714285714283\n",
      "['Red', 'Green', 'Blue', 10, True]\n",
      "Blue\n"
     ]
    }
   ],
   "source": [
    "x1 = 3**2 + 4**3 + 5**4\n",
    "print(x1)\n",
    "# Alterantive solution:\n",
    "#x1 = pow(3,2) + pow(4,3) + pow(5,4)\n",
    "\n",
    "x2 = (4+3)/(5-1)\n",
    "print(x2)\n",
    "\n",
    "x3 = min(x1*x2, x1/x2) \n",
    "print(x3)\n",
    "\n",
    "x4 = [\"Red\", \"Green\", \"Blue\", 10, True]\n",
    "print(x4)\n",
    "print(x4[2])"
   ]
  },
  {
   "cell_type": "markdown",
   "id": "f82d06d1",
   "metadata": {},
   "source": [
    "**Strings**: a sequence of characters\n",
    "\n",
    "There are several way to create a string:\n",
    "1. Single quotes\n",
    "2. Double quotes\n",
    "3. Triple quotes for multi-line strings\n",
    "4. Using f-strings interpolation\n",
    "5. Using str() constructor"
   ]
  },
  {
   "cell_type": "code",
   "execution_count": null,
   "id": "82922c1c",
   "metadata": {
    "scrolled": true
   },
   "outputs": [],
   "source": [
    "s1 = 'Hello World!'\n",
    "s2 = \"Hello World!\"\n",
    "s3 = \"\"\"\n",
    "    Hello\n",
    "    World\n",
    "    !\n",
    "\"\"\"\n",
    "k = 10\n",
    "s4 = f\"The value of the variable x is {k}\"\n",
    "s5 = str(k)\n",
    "\n",
    "print(\"1 --> \", s1)\n",
    "print(\"2 --> \", s2)\n",
    "print(\"3 --> \", s3)\n",
    "print(\"4 --> \", s4)\n",
    "print(\"5 --> \", s5, f\" ---> N.B. The type of s5 is {type(s5)}\")"
   ]
  },
  {
   "cell_type": "markdown",
   "id": "604147c8",
   "metadata": {},
   "source": [
    "**String slicing**\n",
    "\n",
    "Ttring slicing refers to the process of extracting a portion or a subset of characters from a string. You can think of it as cutting or slicing a piece of a string to work with a specific part.\n",
    "\n",
    "String slicing is typically done using square brackets [], and it allows you to specify a range or interval of characters you want to extract from the string. The format for string slicing is as follows: \"string[start:end]\"\n",
    "\n",
    "- start is the index of the first character you want to include in the slice (inclusive)\n",
    "- end is the index of the first character you want to exclude from the slice (exclusive)\n",
    "\n",
    "N.B.\n",
    "- The index of the first character in a string is $0$\n",
    "- The index of the last character in a string is $length-1$\n",
    "- Reverse indexing is also possible, where: \n",
    "    - The index of the last character in the string is $-1$\n",
    "    - The index of the first character in the string is $-length$"
   ]
  },
  {
   "cell_type": "code",
   "execution_count": null,
   "id": "390c8c69",
   "metadata": {},
   "outputs": [],
   "source": [
    "s = \"Hello World\"\n",
    "print(len(s))"
   ]
  },
  {
   "cell_type": "code",
   "execution_count": null,
   "id": "256a2c26",
   "metadata": {},
   "outputs": [],
   "source": [
    "s[0] #It should return 'H'"
   ]
  },
  {
   "cell_type": "code",
   "execution_count": null,
   "id": "f60cf33c",
   "metadata": {},
   "outputs": [],
   "source": [
    "s[10] #It should return 'd'"
   ]
  },
  {
   "cell_type": "code",
   "execution_count": null,
   "id": "982ca5fa",
   "metadata": {},
   "outputs": [],
   "source": [
    "s[11] #It should raise an IndexError"
   ]
  },
  {
   "cell_type": "code",
   "execution_count": null,
   "id": "21d81966",
   "metadata": {},
   "outputs": [],
   "source": [
    "s[-1] #It should return 'd'"
   ]
  },
  {
   "cell_type": "code",
   "execution_count": null,
   "id": "5f9a4653",
   "metadata": {},
   "outputs": [],
   "source": [
    "s[-11] #It should return 'H'"
   ]
  },
  {
   "cell_type": "code",
   "execution_count": null,
   "id": "ca561f4a",
   "metadata": {},
   "outputs": [],
   "source": [
    "s[0:5] #It should return 'Hello'"
   ]
  },
  {
   "cell_type": "code",
   "execution_count": null,
   "id": "dc0b8a1f",
   "metadata": {},
   "outputs": [],
   "source": [
    "s[:5] #If you want to start from the beginning you can omit the 'start' index"
   ]
  },
  {
   "cell_type": "code",
   "execution_count": null,
   "id": "764273d9",
   "metadata": {},
   "outputs": [],
   "source": [
    "s[6:] #If you want to get to the end you can omit the 'end' index"
   ]
  },
  {
   "cell_type": "code",
   "execution_count": null,
   "id": "62cd1fda",
   "metadata": {},
   "outputs": [],
   "source": [
    "s[-11:-6] #It should return 'Hello'"
   ]
  },
  {
   "cell_type": "code",
   "execution_count": null,
   "id": "657e4c8f",
   "metadata": {},
   "outputs": [],
   "source": [
    "s[0:11:2] #It is also possible to specify a step"
   ]
  },
  {
   "cell_type": "code",
   "execution_count": null,
   "id": "dccbcfbe",
   "metadata": {},
   "outputs": [],
   "source": [
    "s[-1:-12:-1] #step equals to -1 reverses the characters"
   ]
  },
  {
   "cell_type": "markdown",
   "id": "b0bd2823",
   "metadata": {},
   "source": [
    "**Some exercises:**  \n",
    "1. Create a variable s that contains the following string 'Lorem ipsum dolor sit amet, consectetur adipiscing elit.'\n",
    "2. Given the string s, extract the first four characters and store them in a new variable s2\n",
    "3. Given the string s, extract the last three characters and store them in a new variable s3\n",
    "4. Given the string s, reverse it using string slicing and store the new string in a variable s4\n",
    "5. Given the string s, remove all spaces and save the new string in a new variable s5 (*hint*: Take a look at the replace built-in function)\n",
    "6. Given the string s, create a list where each element is a word from s (*hint*: Take a look at the split built-in function)"
   ]
  },
  {
   "cell_type": "code",
   "execution_count": 8,
   "id": "2f308d3d",
   "metadata": {},
   "outputs": [
    {
     "name": "stdout",
     "output_type": "stream",
     "text": [
      "Lorem ipsum dolor sit amet, consectetur adipiscing elit.\n",
      "Lore\n",
      "it.\n",
      ".tile gnicsipida rutetcesnoc ,tema tis rolod muspi meroL\n",
      "Loremipsumdolorsitamet,consecteturadipiscingelit.\n",
      "['Lorem', 'ipsum', 'dolor', 'sit', 'amet,', 'consectetur', 'adipiscing', 'elit.']\n"
     ]
    }
   ],
   "source": [
    "s = 'Lorem ipsum dolor sit amet, consectetur adipiscing elit.'\n",
    "print(s)\n",
    "s2 = s[0:4]\n",
    "print(s2)\n",
    "s3 = s[-3:]\n",
    "print(s3)\n",
    "s4 = s[-1::-1]\n",
    "print(s4)\n",
    "s5 = s.replace(\" \",\"\")\n",
    "print(s5)\n",
    "s6 = s.split(\" \")\n",
    "print(s6)"
   ]
  },
  {
   "cell_type": "markdown",
   "id": "37dce5c2",
   "metadata": {},
   "source": [
    "### Section 3: branching and looping"
   ]
  },
  {
   "cell_type": "markdown",
   "id": "a95eb32d",
   "metadata": {},
   "source": [
    "**Exercise 1:** Write a program that asks the user for an input number and prints whether the number is even or odd"
   ]
  },
  {
   "cell_type": "code",
   "execution_count": 10,
   "id": "4919482b",
   "metadata": {},
   "outputs": [
    {
     "name": "stdout",
     "output_type": "stream",
     "text": [
      "Take a number:5\n",
      "Odd\n"
     ]
    }
   ],
   "source": [
    "i = int(input(\"Take a number:\"))\n",
    "if i%2 == 0:\n",
    "    print(\"Even\")\n",
    "else:\n",
    "    print(\"Odd\")"
   ]
  },
  {
   "cell_type": "markdown",
   "id": "38bd0fad",
   "metadata": {},
   "source": [
    "**Exercise 2**: Write a program that asks the user for an input number and checks if the number is in the range [150;300]"
   ]
  },
  {
   "cell_type": "code",
   "execution_count": 14,
   "id": "0aed17c7",
   "metadata": {},
   "outputs": [
    {
     "name": "stdout",
     "output_type": "stream",
     "text": [
      "Take a number:0204553252\n",
      "Out of range\n"
     ]
    }
   ],
   "source": [
    "i = int(input(\"Take a number:\"))\n",
    "if i >= 150 and i <= 300:\n",
    "    print(\"In range\")\n",
    "else:\n",
    "    print(\"Out of range\")"
   ]
  },
  {
   "cell_type": "markdown",
   "id": "985e0cef",
   "metadata": {},
   "source": [
    "**Exercise 3**: Write a program that calculates the factorial $n!$ of a given number $n$\n",
    "\n",
    "N.B. $n! = n \\times n-1 \\times n-2 \\times ... \\times 2 \\times 1$\n"
   ]
  },
  {
   "cell_type": "code",
   "execution_count": 16,
   "id": "bf8ea45f",
   "metadata": {},
   "outputs": [
    {
     "name": "stdout",
     "output_type": "stream",
     "text": [
      "Take a number:5\n",
      "The factorial of 5 is: 120\n"
     ]
    }
   ],
   "source": [
    "n = int(input(\"Take a number:\"))\n",
    "n_temp = 1\n",
    "for i in range(1, n+1):\n",
    "    n_temp = n_temp * i\n",
    "print(f'The factorial of {n} is: {n_temp}')"
   ]
  },
  {
   "cell_type": "markdown",
   "id": "f1c6fcfc",
   "metadata": {},
   "source": [
    "**Exercise 4**: Write a program that generates a sequence of numbers from 1 to 100. For each number in the sequence, the program should do the following:\n",
    "\n",
    "- If the number is divisible by 3, print \"Fizz.\"\n",
    "- If the number is divisible by 5, print \"Buzz.\"\n",
    "- If the number is divisible by both 3 and 5, print \"FizzBuzz.\"\n",
    "- Otherwise, print the number itself.\n"
   ]
  },
  {
   "cell_type": "code",
   "execution_count": 18,
   "id": "50ca0ab9",
   "metadata": {},
   "outputs": [
    {
     "name": "stdout",
     "output_type": "stream",
     "text": [
      "1\n",
      "2\n",
      "Fizz\n",
      "4\n",
      "Buzz\n",
      "Fizz\n",
      "7\n",
      "8\n",
      "Fizz\n",
      "Buzz\n",
      "11\n",
      "Fizz\n",
      "13\n",
      "14\n",
      "FizzBuzz\n",
      "16\n",
      "17\n",
      "Fizz\n",
      "19\n",
      "Buzz\n",
      "Fizz\n",
      "22\n",
      "23\n",
      "Fizz\n",
      "Buzz\n",
      "26\n",
      "Fizz\n",
      "28\n",
      "29\n",
      "FizzBuzz\n",
      "31\n",
      "32\n",
      "Fizz\n",
      "34\n",
      "Buzz\n",
      "Fizz\n",
      "37\n",
      "38\n",
      "Fizz\n",
      "Buzz\n",
      "41\n",
      "Fizz\n",
      "43\n",
      "44\n",
      "FizzBuzz\n",
      "46\n",
      "47\n",
      "Fizz\n",
      "49\n",
      "Buzz\n",
      "Fizz\n",
      "52\n",
      "53\n",
      "Fizz\n",
      "Buzz\n",
      "56\n",
      "Fizz\n",
      "58\n",
      "59\n",
      "FizzBuzz\n",
      "61\n",
      "62\n",
      "Fizz\n",
      "64\n",
      "Buzz\n",
      "Fizz\n",
      "67\n",
      "68\n",
      "Fizz\n",
      "Buzz\n",
      "71\n",
      "Fizz\n",
      "73\n",
      "74\n",
      "FizzBuzz\n",
      "76\n",
      "77\n",
      "Fizz\n",
      "79\n",
      "Buzz\n",
      "Fizz\n",
      "82\n",
      "83\n",
      "Fizz\n",
      "Buzz\n",
      "86\n",
      "Fizz\n",
      "88\n",
      "89\n",
      "FizzBuzz\n",
      "91\n",
      "92\n",
      "Fizz\n",
      "94\n",
      "Buzz\n",
      "Fizz\n",
      "97\n",
      "98\n",
      "Fizz\n"
     ]
    }
   ],
   "source": [
    "for n in range(1, 100):\n",
    "    if n%3==0 and n%5==0:\n",
    "        print(\"FizzBuzz\")\n",
    "    elif n%3==0 :\n",
    "        print(\"Fizz\")\n",
    "    elif n%5==0:\n",
    "        print(\"Buzz\")\n",
    "    else:\n",
    "        print(n)"
   ]
  },
  {
   "cell_type": "markdown",
   "id": "8ad22d95",
   "metadata": {},
   "source": [
    "**Exercise 5**: Write a program that asks the user to input a number and compares it to the number *w* randomly generated, if the user's input matches the random number, print the victory message; otherwise, inform the user whether the number to guess is greater or smaller than the previously entered one"
   ]
  },
  {
   "cell_type": "code",
   "execution_count": 20,
   "id": "e923755c",
   "metadata": {},
   "outputs": [
    {
     "name": "stdout",
     "output_type": "stream",
     "text": [
      "333\n"
     ]
    }
   ],
   "source": [
    "import random\n",
    "w = random.randint(0, 500)\n",
    "print(w)"
   ]
  },
  {
   "cell_type": "code",
   "execution_count": 21,
   "id": "f233ef80",
   "metadata": {},
   "outputs": [
    {
     "name": "stdout",
     "output_type": "stream",
     "text": [
      "Take a number:4\n",
      "Your number is lower than mine\n",
      "Take a number:400\n",
      "Your number is greater than mine\n",
      "Take a number:300\n",
      "Your number is lower than mine\n",
      "Take a number:350\n",
      "Your number is greater than mine\n",
      "Take a number:330\n",
      "Your number is lower than mine\n",
      "Take a number:335\n",
      "Your number is greater than mine\n",
      "Take a number:333\n",
      "Nice job!\n"
     ]
    }
   ],
   "source": [
    "n = int(input(\"Take a number:\"))\n",
    "while n != w:\n",
    "    if n > w: \n",
    "        print(\"Your number is greater than mine\")\n",
    "    else: \n",
    "        print(\"Your number is lower than mine\")\n",
    "    n = int(input(\"Take a number:\"))\n",
    "    \n",
    "print(\"Nice job!\")"
   ]
  },
  {
   "cell_type": "markdown",
   "id": "beb0333f",
   "metadata": {},
   "source": [
    "**Exercise 6**: Write a program that iterates through the provided string and counts the number of vowels and the number of consonants\n",
    "\n",
    "*hint*: take a look at the membership operators https://www.w3schools.com/python/gloss_python_membership_operators.asp"
   ]
  },
  {
   "cell_type": "code",
   "execution_count": 22,
   "id": "74f556fe",
   "metadata": {},
   "outputs": [],
   "source": [
    "s = 'Lorem ipsum dolor sit amet, consectetur adipiscing elit.'"
   ]
  },
  {
   "cell_type": "code",
   "execution_count": 24,
   "id": "134e9702",
   "metadata": {},
   "outputs": [
    {
     "name": "stdout",
     "output_type": "stream",
     "text": [
      "19 27\n"
     ]
    }
   ],
   "source": [
    "consonant = \"bcdfghjklmnpqrstvwxyz\"\n",
    "vowels = \"aeiou\"\n",
    "\n",
    "n_vowels = 0\n",
    "n_consonant = 0\n",
    "\n",
    "for char in s:\n",
    "    if char in vowels:\n",
    "        n_vowels += 1\n",
    "    elif char in consonant: \n",
    "        n_consonant+=1\n",
    "        \n",
    "print(n_vowels, n_consonant)"
   ]
  },
  {
   "cell_type": "markdown",
   "id": "4a8d3e23",
   "metadata": {},
   "source": [
    "### Section 4: Functions"
   ]
  },
  {
   "cell_type": "markdown",
   "id": "2d74c12b",
   "metadata": {},
   "source": [
    "**Exercise 1**: Write a function that takes the height and width of a rectangle as parameters and returns its area"
   ]
  },
  {
   "cell_type": "code",
   "execution_count": 25,
   "id": "db5873c2",
   "metadata": {},
   "outputs": [],
   "source": [
    "def rec_area(width, height):\n",
    "    return width*height"
   ]
  },
  {
   "cell_type": "markdown",
   "id": "91b6c26b",
   "metadata": {},
   "source": [
    "**Exercise 2**: Write a function that computes the sum of integers from 1 to N"
   ]
  },
  {
   "cell_type": "code",
   "execution_count": 26,
   "id": "ba5cd372",
   "metadata": {},
   "outputs": [],
   "source": [
    "def sum_1_to_N(n):\n",
    "    s = 0\n",
    "    for i in range(1, n+1):\n",
    "        s = s + i\n",
    "    return s"
   ]
  },
  {
   "cell_type": "code",
   "execution_count": 27,
   "id": "c2db782f",
   "metadata": {},
   "outputs": [
    {
     "data": {
      "text/plain": [
       "55"
      ]
     },
     "execution_count": 27,
     "metadata": {},
     "output_type": "execute_result"
    }
   ],
   "source": [
    "sum_1_to_N(10)"
   ]
  },
  {
   "cell_type": "markdown",
   "id": "97a68d2c",
   "metadata": {},
   "source": [
    "**Exercise 3**: Write a function that takes an input number and checks if it is a prime number"
   ]
  },
  {
   "cell_type": "code",
   "execution_count": 29,
   "id": "35beb029",
   "metadata": {},
   "outputs": [],
   "source": [
    "def is_prime(n):\n",
    "    bound = (n//2)+1\n",
    "    for i in range(2, bound):\n",
    "        if n % i == 0:\n",
    "            return False\n",
    "    return True"
   ]
  },
  {
   "cell_type": "code",
   "execution_count": 30,
   "id": "95cc7f8b",
   "metadata": {},
   "outputs": [
    {
     "name": "stdout",
     "output_type": "stream",
     "text": [
      "True\n",
      "False\n",
      "True\n",
      "True\n",
      "False\n"
     ]
    }
   ],
   "source": [
    "print(is_prime(3))\n",
    "print(is_prime(6))\n",
    "print(is_prime(11))\n",
    "print(is_prime(17))\n",
    "print(is_prime(20))"
   ]
  },
  {
   "cell_type": "markdown",
   "id": "45f1fedd",
   "metadata": {},
   "source": [
    "**Exercise 4**: Write a function that takes two numbers as input and checks if they form a pair of sexy prime numbers (https://en.wikipedia.org/wiki/Sexy_prime)\n",
    "\n",
    "*Hint*: try reusing the above function to avoid writing similar code"
   ]
  },
  {
   "cell_type": "code",
   "execution_count": 31,
   "id": "cd961246",
   "metadata": {},
   "outputs": [],
   "source": [
    "def sexy_prime(n, k):\n",
    "    return is_prime(n) and is_prime(k) and abs(n-k) == 6"
   ]
  },
  {
   "cell_type": "code",
   "execution_count": 33,
   "id": "c3ad9973",
   "metadata": {},
   "outputs": [
    {
     "name": "stdout",
     "output_type": "stream",
     "text": [
      "False\n",
      "False\n",
      "True\n",
      "False\n",
      "True\n"
     ]
    }
   ],
   "source": [
    "print(sexy_prime(2,3))\n",
    "print(sexy_prime(7,14))\n",
    "print(sexy_prime(7,13))\n",
    "print(sexy_prime(7,11))\n",
    "print(sexy_prime(11,17))"
   ]
  },
  {
   "cell_type": "markdown",
   "id": "d94ae836",
   "metadata": {},
   "source": [
    "**Exercise 5**: Write a function that takes as input a list of numbers and returns the maximum"
   ]
  },
  {
   "cell_type": "code",
   "execution_count": 36,
   "id": "2e5b5c2e",
   "metadata": {},
   "outputs": [],
   "source": [
    "def max_of_list(l):\n",
    "    return max(l)"
   ]
  },
  {
   "cell_type": "code",
   "execution_count": 37,
   "id": "443ee4a0",
   "metadata": {},
   "outputs": [
    {
     "name": "stdout",
     "output_type": "stream",
     "text": [
      "4\n",
      "21\n",
      "34\n"
     ]
    }
   ],
   "source": [
    "print(max_of_list([1,2,3,4]))\n",
    "print(max_of_list([1,21,3,4]))\n",
    "print(max_of_list([1,2,34,4]))"
   ]
  },
  {
   "cell_type": "markdown",
   "id": "ff35e9fb",
   "metadata": {},
   "source": [
    "**Exercise 6**: Write a function that, given an input list A containing n words, returns an output list B of integers representing the lengths of the words in A"
   ]
  },
  {
   "cell_type": "code",
   "execution_count": 39,
   "id": "9faa2642",
   "metadata": {},
   "outputs": [],
   "source": [
    "def count_chars(l):\n",
    "    counts = []\n",
    "    for e in l:\n",
    "        counts.append(len(e))\n",
    "    return counts"
   ]
  },
  {
   "cell_type": "code",
   "execution_count": 40,
   "id": "a2e19171",
   "metadata": {},
   "outputs": [
    {
     "name": "stdout",
     "output_type": "stream",
     "text": [
      "[4, 4, 4, 1, 2, 4]\n"
     ]
    }
   ],
   "source": [
    "print(count_chars([\"ciao\", \"come\", \"stai\", \"?\", \"io\", \"bene\"]))"
   ]
  },
  {
   "cell_type": "markdown",
   "id": "8c54cd75",
   "metadata": {},
   "source": [
    "**Exercise 7**: Write a function that checks whether a number is perfect or not (https://en.wikipedia.org/wiki/Perfect_number)"
   ]
  },
  {
   "cell_type": "code",
   "execution_count": 41,
   "id": "1d149733",
   "metadata": {},
   "outputs": [],
   "source": [
    "def find_divisors(n):\n",
    "    divisors = []\n",
    "    bound = (n//2)+1\n",
    "    for i in range(1, bound):\n",
    "        if n % i == 0:\n",
    "            divisors.append(i)\n",
    "    return divisors"
   ]
  },
  {
   "cell_type": "code",
   "execution_count": 43,
   "id": "ebfd3b4e",
   "metadata": {},
   "outputs": [],
   "source": [
    "def check_perfect(n):\n",
    "    divisors = find_divisors(n)\n",
    "    divisors_sum = sum(divisors)\n",
    "    return divisors_sum == n"
   ]
  },
  {
   "cell_type": "code",
   "execution_count": 47,
   "id": "d0b6f2f8",
   "metadata": {},
   "outputs": [
    {
     "data": {
      "text/plain": [
       "True"
      ]
     },
     "execution_count": 47,
     "metadata": {},
     "output_type": "execute_result"
    }
   ],
   "source": [
    "check_perfect(496)"
   ]
  },
  {
   "cell_type": "markdown",
   "id": "ba9ae0de",
   "metadata": {},
   "source": [
    "**Exercise 8**: Write a function that takes as input a string and recognizes whether it is a palindrome (words that read the same backward as forward)"
   ]
  },
  {
   "cell_type": "code",
   "execution_count": 52,
   "id": "8d4c2c06",
   "metadata": {},
   "outputs": [],
   "source": [
    "def check_palindrome(w): \n",
    "    w_reverse = w[-1::-1]\n",
    "    return w == w_reverse"
   ]
  },
  {
   "cell_type": "code",
   "execution_count": 53,
   "id": "6a98b083",
   "metadata": {},
   "outputs": [
    {
     "name": "stdout",
     "output_type": "stream",
     "text": [
      "True\n",
      "False\n"
     ]
    }
   ],
   "source": [
    "print(check_palindrome('anna'))\n",
    "print(check_palindrome('hello'))"
   ]
  },
  {
   "cell_type": "markdown",
   "id": "7f2e9b51",
   "metadata": {},
   "source": [
    "**Exercise 9**: Write a function that calculates the Fibonacci sequence up to N (https://en.wikipedia.org/wiki/Fibonacci_sequence)"
   ]
  },
  {
   "cell_type": "code",
   "execution_count": 57,
   "id": "293d7e8e",
   "metadata": {},
   "outputs": [],
   "source": [
    "def fibonacci(n):\n",
    "    seq = [0, 1]\n",
    "    for i in range(2, n+1):\n",
    "        f1 = seq[i-1]\n",
    "        f2 = seq[i-2]\n",
    "        seq.append(f1+f2)\n",
    "    return seq"
   ]
  },
  {
   "cell_type": "code",
   "execution_count": 60,
   "id": "77a8b8b2",
   "metadata": {},
   "outputs": [
    {
     "data": {
      "text/plain": [
       "[0, 1, 1, 2, 3, 5, 8, 13, 21, 34, 55, 89, 144]"
      ]
     },
     "execution_count": 60,
     "metadata": {},
     "output_type": "execute_result"
    }
   ],
   "source": [
    "fibonacci(12)"
   ]
  },
  {
   "cell_type": "markdown",
   "id": "1cff3143",
   "metadata": {},
   "source": [
    "**Advanced exercise**: Write a function that takes an input string and encrypts it using the Atbash cipher\n",
    "\n",
    "N.B. The Atbash cipher is a particular type of monoalphabetic cipher formed by taking the alphabet and mapping it to its reverse, so that the first letter becomes the last letter, the second letter becomes the second to last letter, and so on.\n",
    "\n",
    "*hint*: To substitute characters more easily, take a look at their representation in ASCII format\n",
    "\n",
    "![](imgs/img1.png)\n"
   ]
  },
  {
   "cell_type": "code",
   "execution_count": 93,
   "id": "8a422dcf",
   "metadata": {},
   "outputs": [],
   "source": [
    "def atbash(s):\n",
    "    encrypted = ''\n",
    "    for c in string:\n",
    "        if c.isalpha():\n",
    "            encrypted_char = 65 + (25 - (ord(c) - 65)) \n",
    "            encrypted = encrypted + chr(encrypted_char)\n",
    "        else: \n",
    "            encrypted = encrypted + c\n",
    "    return encrypted"
   ]
  },
  {
   "cell_type": "code",
   "execution_count": 94,
   "id": "d5c7d15a",
   "metadata": {
    "scrolled": true
   },
   "outputs": [
    {
     "name": "stdout",
     "output_type": "stream",
     "text": [
      "Insert a string: ABCXYZ\n",
      "ABCXYZ\n",
      "ZYXCBA\n"
     ]
    }
   ],
   "source": [
    "string = input(\"Insert a string: \").upper()\n",
    "print(string)\n",
    "print(atbash(string))"
   ]
  }
 ],
 "metadata": {
  "kernelspec": {
   "display_name": "Python 3 (ipykernel)",
   "language": "python",
   "name": "python3"
  },
  "language_info": {
   "codemirror_mode": {
    "name": "ipython",
    "version": 3
   },
   "file_extension": ".py",
   "mimetype": "text/x-python",
   "name": "python",
   "nbconvert_exporter": "python",
   "pygments_lexer": "ipython3",
   "version": "3.7.9"
  }
 },
 "nbformat": 4,
 "nbformat_minor": 5
}
