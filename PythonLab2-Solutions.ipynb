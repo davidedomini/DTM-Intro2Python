{
 "cells": [
  {
   "cell_type": "markdown",
   "id": "505d611e",
   "metadata": {},
   "source": [
    "# Digital Transformation Management"
   ]
  },
  {
   "cell_type": "markdown",
   "id": "099f25cf",
   "metadata": {},
   "source": [
    "## Introduction to Python Lab 2"
   ]
  },
  {
   "cell_type": "markdown",
   "id": "657da711",
   "metadata": {},
   "source": [
    "### Exercise 1\n",
    "\n",
    "Write a function named **count_letter** that counts the number of words that contain a given letter in a given string."
   ]
  },
  {
   "cell_type": "code",
   "execution_count": 1,
   "id": "c5ff4786",
   "metadata": {},
   "outputs": [],
   "source": [
    "def count_letter(string, letter):\n",
    "    count = 0\n",
    "    for l in string:\n",
    "        if l == letter:\n",
    "            count += 1\n",
    "    return count"
   ]
  },
  {
   "cell_type": "code",
   "execution_count": 4,
   "id": "13d76acc",
   "metadata": {},
   "outputs": [
    {
     "name": "stdout",
     "output_type": "stream",
     "text": [
      "1\n",
      "3\n",
      "2\n"
     ]
    }
   ],
   "source": [
    "print(count_letter('Hello World!', 'e'))\n",
    "print(count_letter('Hello World!', 'l'))\n",
    "print(count_letter('Hello World!', 'o'))"
   ]
  },
  {
   "cell_type": "markdown",
   "id": "774fe31b",
   "metadata": {},
   "source": [
    "### Exercise 2\n",
    "\n",
    "Write a function that prints the following pattern:\n",
    "\n",
    "1 \n",
    "\n",
    "1 2 \n",
    "\n",
    "1 2 3 \n",
    "\n",
    "1 2 3 4 \n",
    "\n",
    "1 2 3 4 5\n",
    "\n",
    "\n",
    "1.....................n\n",
    "\n",
    "N.B. the number n must be an input of the function"
   ]
  },
  {
   "cell_type": "code",
   "execution_count": 9,
   "id": "7f4543de",
   "metadata": {},
   "outputs": [],
   "source": [
    "def pattern(n): \n",
    "    for i in range(1, n+1):\n",
    "        for j in range(1, i+1):\n",
    "            print(f'{j} ', end=' ')\n",
    "        print()"
   ]
  },
  {
   "cell_type": "code",
   "execution_count": 12,
   "id": "45b6e9bf",
   "metadata": {},
   "outputs": [
    {
     "name": "stdout",
     "output_type": "stream",
     "text": [
      "1  \n",
      "1  2  \n",
      "1  2  3  \n",
      "1  2  3  4  \n",
      "1  2  3  4  5  \n",
      "1  2  3  4  5  6  \n",
      "1  2  3  4  5  6  7  \n",
      "1  2  3  4  5  6  7  8  \n",
      "1  2  3  4  5  6  7  8  9  \n",
      "1  2  3  4  5  6  7  8  9  10  \n"
     ]
    }
   ],
   "source": [
    "pattern(10)"
   ]
  },
  {
   "cell_type": "markdown",
   "id": "308c95bc",
   "metadata": {},
   "source": [
    "### Exercise 3\n",
    "\n",
    "Write a program to print multiplication table of a given number (e.g., if n=2 then it should print2 4 6 8 10 12 14 16 18 20)"
   ]
  },
  {
   "cell_type": "code",
   "execution_count": 13,
   "id": "f39ae0f0",
   "metadata": {},
   "outputs": [],
   "source": [
    "def mul_table(n):\n",
    "    for i in range(1, 11):\n",
    "        print(n * i)"
   ]
  },
  {
   "cell_type": "code",
   "execution_count": 16,
   "id": "7163a0d6",
   "metadata": {},
   "outputs": [
    {
     "name": "stdout",
     "output_type": "stream",
     "text": [
      "2\n",
      "4\n",
      "6\n",
      "8\n",
      "10\n",
      "12\n",
      "14\n",
      "16\n",
      "18\n",
      "20\n"
     ]
    }
   ],
   "source": [
    "mul_table(2)"
   ]
  },
  {
   "cell_type": "markdown",
   "id": "847a391b",
   "metadata": {},
   "source": [
    "### Exercise 4 \n",
    "\n",
    "Create a function that takes as input a variable number of real numbers and:\n",
    "- For each number checks if it is in the range [18;30];\n",
    "- For numbers meeting the condition above, computes the mean;\n",
    "- Otherwise discards the number."
   ]
  },
  {
   "cell_type": "code",
   "execution_count": 17,
   "id": "9bd1fcf2",
   "metadata": {},
   "outputs": [],
   "source": [
    "def mean_in_range(*numbers):\n",
    "    acc = 0\n",
    "    count = 0\n",
    "    for n in numbers:\n",
    "        if n >= 18 and n <= 30:\n",
    "            acc += n\n",
    "            count += 1\n",
    "    mean = acc / count\n",
    "    return mean"
   ]
  },
  {
   "cell_type": "code",
   "execution_count": 18,
   "id": "08267f9e",
   "metadata": {},
   "outputs": [
    {
     "name": "stdout",
     "output_type": "stream",
     "text": [
      "19.0\n",
      "19.0\n",
      "19.0\n"
     ]
    }
   ],
   "source": [
    "print(mean_in_range(18, 20))\n",
    "print(mean_in_range(12, 18, 20))\n",
    "print(mean_in_range(12, 33, 18, 20))"
   ]
  },
  {
   "cell_type": "markdown",
   "id": "fd3a000a",
   "metadata": {},
   "source": [
    "### Exercise 5\n",
    "\n",
    "Create a function that takes as input a variable number of real numbers and returns the mean, the min and the max"
   ]
  },
  {
   "cell_type": "code",
   "execution_count": 22,
   "id": "ca4f2b08",
   "metadata": {},
   "outputs": [],
   "source": [
    "def statistics(*numbers):\n",
    "    mean = sum(numbers) / len(numbers)\n",
    "    minimum = min(numbers)\n",
    "    maximum = max(numbers)\n",
    "    return mean, minimum, maximum"
   ]
  },
  {
   "cell_type": "code",
   "execution_count": 26,
   "id": "b0152d73",
   "metadata": {
    "scrolled": true
   },
   "outputs": [
    {
     "name": "stdout",
     "output_type": "stream",
     "text": [
      "(22.666666666666668, 18, 30)\n"
     ]
    }
   ],
   "source": [
    "print(statistics(18, 20, 30))"
   ]
  },
  {
   "cell_type": "markdown",
   "id": "022d1bb8",
   "metadata": {},
   "source": [
    "### Exercise 6\n",
    "\n",
    "Create a simple calculator program that allows the user to perform basic arithmetic operations (addition, subtraction, multiplication, division) on two numbers. \n",
    "\n",
    "Requirements:\n",
    "\n",
    "- Display a menu to the user with options to perform addition, subtraction, multiplication, and division;\n",
    "- Prompt the user to enter two numbers;\n",
    "- Perform the selected operation and display the result;\n",
    "- Ask the user if they want to perform another calculation;\n",
    "- Continue until the user decides to exit."
   ]
  },
  {
   "cell_type": "code",
   "execution_count": 49,
   "id": "b94a5f2e",
   "metadata": {},
   "outputs": [
    {
     "name": "stdout",
     "output_type": "stream",
     "text": [
      "Menu: \n",
      " 1 --> Add \n",
      " 2 --> Subtract \n",
      " 3 --> Multiply \n",
      " 4 --> Divide \n",
      " 0 --> Exit\n",
      "Choice: 0\n"
     ]
    }
   ],
   "source": [
    "exit = False\n",
    "\n",
    "while not exit:\n",
    "    print('Menu: \\n 1 --> Add \\n 2 --> Subtract \\n 3 --> Multiply \\n 4 --> Divide \\n 0 --> Exit')\n",
    "    user_input = int(input('Choice: '))\n",
    "    if user_input == 0:\n",
    "        exit = True\n",
    "    else:\n",
    "        n1 = int(input('First number: '))\n",
    "        n2 = int(input('Second number: '))\n",
    "        if user_input == 1:\n",
    "            print(n1 + n2)\n",
    "        elif user_input == 2:\n",
    "            print(n1 - n2)\n",
    "        elif user_input == 3:\n",
    "            print(n1 * n2)\n",
    "        elif user_input == 4:\n",
    "            print(n1 / n2)"
   ]
  },
  {
   "cell_type": "markdown",
   "id": "16f1a478",
   "metadata": {},
   "source": [
    "### Exercise 7\n",
    "\n",
    "Create a program that reverses the letters of words in a given sentence. \n",
    "\n",
    "Example: \"hi how are you?\" --> \"ih woh era uoy?\""
   ]
  },
  {
   "cell_type": "code",
   "execution_count": 27,
   "id": "492f5d0a",
   "metadata": {},
   "outputs": [],
   "source": [
    "def reverse(string):\n",
    "    reversed_string = ''\n",
    "    for word in string.split(' '):\n",
    "        reversed_string += word[-1::-1] + ' '\n",
    "    return reversed_string"
   ]
  },
  {
   "cell_type": "code",
   "execution_count": 29,
   "id": "5f906a58",
   "metadata": {},
   "outputs": [
    {
     "name": "stdout",
     "output_type": "stream",
     "text": [
      "iH woh era uoy ? \n"
     ]
    }
   ],
   "source": [
    "print(reverse(\"Hi how are you ?\"))"
   ]
  },
  {
   "cell_type": "markdown",
   "id": "42eced5d",
   "metadata": {},
   "source": [
    "### Exercise 8\n",
    "\n",
    "Create a function that calculates the sum of the digits in a positive integer."
   ]
  },
  {
   "cell_type": "code",
   "execution_count": 30,
   "id": "8cf53b03",
   "metadata": {},
   "outputs": [],
   "source": [
    "def sum_digits(n):\n",
    "    s = 0\n",
    "    while n > 0:\n",
    "        last_digit = n % 10\n",
    "        s += last_digit\n",
    "        n = n // 10 \n",
    "    return s"
   ]
  },
  {
   "cell_type": "code",
   "execution_count": 33,
   "id": "b898b804",
   "metadata": {},
   "outputs": [
    {
     "name": "stdout",
     "output_type": "stream",
     "text": [
      "3\n",
      "3\n",
      "12\n"
     ]
    }
   ],
   "source": [
    "print(sum_digits(12))\n",
    "print(sum_digits(120))\n",
    "print(sum_digits(345))"
   ]
  },
  {
   "cell_type": "markdown",
   "id": "b1ac0476",
   "metadata": {},
   "source": [
    "### Exercise 9\n",
    "\n",
    "Create a function that finds the largest digit in a positive integer."
   ]
  },
  {
   "cell_type": "code",
   "execution_count": 34,
   "id": "4641f1d2",
   "metadata": {},
   "outputs": [],
   "source": [
    "def largest_digit(n):\n",
    "    m = 0 \n",
    "    while n > 0:\n",
    "        last_digit = n % 10\n",
    "        if last_digit > m:\n",
    "            m = last_digit\n",
    "        n = n // 10 \n",
    "    return m"
   ]
  },
  {
   "cell_type": "code",
   "execution_count": 37,
   "id": "d8020c7e",
   "metadata": {},
   "outputs": [
    {
     "name": "stdout",
     "output_type": "stream",
     "text": [
      "9\n",
      "0\n",
      "5\n"
     ]
    }
   ],
   "source": [
    "print(largest_digit(139))\n",
    "print(largest_digit(0))\n",
    "print(largest_digit(345))"
   ]
  },
  {
   "cell_type": "markdown",
   "id": "f0168e58",
   "metadata": {},
   "source": [
    "### Exercise 10\n",
    "\n",
    "Create a function that calculates  the Greatest Common Divisor (GCD) of two numbers."
   ]
  },
  {
   "cell_type": "code",
   "execution_count": 38,
   "id": "845e6eae",
   "metadata": {},
   "outputs": [],
   "source": [
    "def GCD(n1, n2):\n",
    "    a = max(n1, n2)\n",
    "    b = min(n1, n2)\n",
    "    while b > 0:\n",
    "        t = b\n",
    "        b = a % b\n",
    "        a = t\n",
    "    return a"
   ]
  },
  {
   "cell_type": "code",
   "execution_count": 44,
   "id": "ed49b650",
   "metadata": {},
   "outputs": [
    {
     "name": "stdout",
     "output_type": "stream",
     "text": [
      "5\n",
      "10\n",
      "6\n"
     ]
    }
   ],
   "source": [
    "print(GCD(15, 25))\n",
    "print(GCD(50, 220))\n",
    "print(GCD(18, 12))"
   ]
  },
  {
   "cell_type": "markdown",
   "id": "c7e9e1a8",
   "metadata": {},
   "source": [
    "### Advanced exercise\n",
    "\n",
    "Create a word guessing game where the computer selects a random word from a predefined list, and the player must guess the word one letter at a time. \n",
    "\n",
    "Requirements:\n",
    "\n",
    "- Create a list of words from which the computer will select a random word.\n",
    "- Select a random word from the list.\n",
    "- Display underscores to represent each letter in the word (e.g., \"_ _ _ _\" for a four-letter word).\n",
    "- Allow the player to guess one letter at a time.\n",
    "- After each guess, reveal any correct letters in their respective positions (e.g., \"a _ _ _\" if 'a' is the correct guess in a four-letter word).\n",
    "- Limit the player to a certain number of incorrect guesses (e.g., 6).\n",
    "- Display the player's progress and the number of incorrect guesses remaining.\n",
    "- End the game when the player correctly guesses the word or runs out of guesses."
   ]
  },
  {
   "cell_type": "code",
   "execution_count": null,
   "id": "3a86d67b",
   "metadata": {},
   "outputs": [],
   "source": []
  }
 ],
 "metadata": {
  "kernelspec": {
   "display_name": "Python 3 (ipykernel)",
   "language": "python",
   "name": "python3"
  },
  "language_info": {
   "codemirror_mode": {
    "name": "ipython",
    "version": 3
   },
   "file_extension": ".py",
   "mimetype": "text/x-python",
   "name": "python",
   "nbconvert_exporter": "python",
   "pygments_lexer": "ipython3",
   "version": "3.7.9"
  }
 },
 "nbformat": 4,
 "nbformat_minor": 5
}
