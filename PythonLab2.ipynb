{
 "cells": [
  {
   "cell_type": "markdown",
   "id": "505d611e",
   "metadata": {},
   "source": [
    "# Digital Transformation Management"
   ]
  },
  {
   "cell_type": "markdown",
   "id": "099f25cf",
   "metadata": {},
   "source": [
    "## Introduction to Python Lab 2"
   ]
  },
  {
   "cell_type": "markdown",
   "id": "657da711",
   "metadata": {},
   "source": [
    "### Exercise 1\n",
    "\n",
    "Write a function named **count_letter** that counts the number of words that contain a given letter in a given string."
   ]
  },
  {
   "cell_type": "code",
   "execution_count": null,
   "id": "c5ff4786",
   "metadata": {},
   "outputs": [],
   "source": [
    "def count_letter(string, letter):\n",
    "    ..."
   ]
  },
  {
   "cell_type": "markdown",
   "id": "774fe31b",
   "metadata": {},
   "source": [
    "### Exercise 2\n",
    "\n",
    "Write a function that prints the following pattern:\n",
    "\n",
    "1 \n",
    "\n",
    "1 2 \n",
    "\n",
    "1 2 3 \n",
    "\n",
    "1 2 3 4 \n",
    "\n",
    "1 2 3 4 5\n",
    "\n",
    "\n",
    "1.....................n\n",
    "\n",
    "N.B. the number n must be an input of the function"
   ]
  },
  {
   "cell_type": "code",
   "execution_count": null,
   "id": "7f4543de",
   "metadata": {},
   "outputs": [],
   "source": [
    "..."
   ]
  },
  {
   "cell_type": "markdown",
   "id": "308c95bc",
   "metadata": {},
   "source": [
    "### Exercise 3\n",
    "\n",
    "Write a program to print multiplication table of a given number (e.g., if n=2 then it should print2 4 6 8 10 12 14 16 18 20)"
   ]
  },
  {
   "cell_type": "code",
   "execution_count": null,
   "id": "f39ae0f0",
   "metadata": {},
   "outputs": [],
   "source": [
    "..."
   ]
  },
  {
   "cell_type": "markdown",
   "id": "847a391b",
   "metadata": {},
   "source": [
    "### Exercise 4 \n",
    "\n",
    "Create a function that takes as input a variable number of real numbers and:\n",
    "- For each number checks if it is in the range [18;30];\n",
    "- For numbers meeting the condition above, computes the mean;\n",
    "- Otherwise discards the number."
   ]
  },
  {
   "cell_type": "code",
   "execution_count": null,
   "id": "9bd1fcf2",
   "metadata": {},
   "outputs": [],
   "source": [
    "..."
   ]
  },
  {
   "cell_type": "markdown",
   "id": "fd3a000a",
   "metadata": {},
   "source": [
    "### Exercise 5\n",
    "\n",
    "Create a function that takes as input a variable number of real numbers and returns the mean, the min and the max"
   ]
  },
  {
   "cell_type": "code",
   "execution_count": null,
   "id": "ca4f2b08",
   "metadata": {},
   "outputs": [],
   "source": [
    "..."
   ]
  },
  {
   "cell_type": "markdown",
   "id": "022d1bb8",
   "metadata": {},
   "source": [
    "### Exercise 6\n",
    "\n",
    "Create a simple calculator program that allows the user to perform basic arithmetic operations (addition, subtraction, multiplication, division) on two numbers. \n",
    "\n",
    "Requirements:\n",
    "\n",
    "- Display a menu to the user with options to perform addition, subtraction, multiplication, and division;\n",
    "- Prompt the user to enter two numbers;\n",
    "- Perform the selected operation and display the result;\n",
    "- Ask the user if they want to perform another calculation;\n",
    "- Continue until the user decides to exit."
   ]
  },
  {
   "cell_type": "code",
   "execution_count": null,
   "id": "b94a5f2e",
   "metadata": {},
   "outputs": [],
   "source": [
    "..."
   ]
  },
  {
   "cell_type": "markdown",
   "id": "16f1a478",
   "metadata": {},
   "source": [
    "### Exercise 7\n",
    "\n",
    "Create a program that reverses the letters of words in a given sentence. \n",
    "\n",
    "Example: \"hi how are you?\" --> \"ih woh era uoy?\""
   ]
  },
  {
   "cell_type": "code",
   "execution_count": null,
   "id": "492f5d0a",
   "metadata": {},
   "outputs": [],
   "source": [
    "..."
   ]
  },
  {
   "cell_type": "markdown",
   "id": "42eced5d",
   "metadata": {},
   "source": [
    "### Exercise 8\n",
    "\n",
    "Create a function that calculates the sum of the digits in a positive integer."
   ]
  },
  {
   "cell_type": "code",
   "execution_count": null,
   "id": "8cf53b03",
   "metadata": {},
   "outputs": [],
   "source": [
    "..."
   ]
  },
  {
   "cell_type": "markdown",
   "id": "b1ac0476",
   "metadata": {},
   "source": [
    "### Exercise 9\n",
    "\n",
    "Create a function that finds the largest digit in a positive integer."
   ]
  },
  {
   "cell_type": "code",
   "execution_count": null,
   "id": "4641f1d2",
   "metadata": {},
   "outputs": [],
   "source": [
    "..."
   ]
  },
  {
   "cell_type": "markdown",
   "id": "f0168e58",
   "metadata": {},
   "source": [
    "### Exercise 10\n",
    "\n",
    "Create a function that calculates  the Greatest Common Divisor (GCD) of two numbers."
   ]
  },
  {
   "cell_type": "code",
   "execution_count": null,
   "id": "845e6eae",
   "metadata": {},
   "outputs": [],
   "source": [
    "..."
   ]
  },
  {
   "cell_type": "markdown",
   "id": "c7e9e1a8",
   "metadata": {},
   "source": [
    "### Advanced exercise\n",
    "\n",
    "Create a word guessing game where the computer selects a random word from a predefined list, and the player must guess the word one letter at a time. \n",
    "\n",
    "Requirements:\n",
    "\n",
    "- Create a list of words from which the computer will select a random word.\n",
    "- Select a random word from the list.\n",
    "- Display underscores to represent each letter in the word (e.g., \"_ _ _ _\" for a four-letter word).\n",
    "- Allow the player to guess one letter at a time.\n",
    "- After each guess, reveal any correct letters in their respective positions (e.g., \"a _ _ _\" if 'a' is the correct guess in a four-letter word).\n",
    "- Limit the player to a certain number of incorrect guesses (e.g., 6).\n",
    "- Display the player's progress and the number of incorrect guesses remaining.\n",
    "- End the game when the player correctly guesses the word or runs out of guesses."
   ]
  }
 ],
 "metadata": {
  "kernelspec": {
   "display_name": "Python 3 (ipykernel)",
   "language": "python",
   "name": "python3"
  },
  "language_info": {
   "codemirror_mode": {
    "name": "ipython",
    "version": 3
   },
   "file_extension": ".py",
   "mimetype": "text/x-python",
   "name": "python",
   "nbconvert_exporter": "python",
   "pygments_lexer": "ipython3",
   "version": "3.7.9"
  }
 },
 "nbformat": 4,
 "nbformat_minor": 5
}
